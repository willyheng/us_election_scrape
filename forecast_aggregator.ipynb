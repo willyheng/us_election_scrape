{
 "cells": [
  {
   "cell_type": "code",
   "execution_count": null,
   "metadata": {},
   "outputs": [],
   "source": [
    "import pandas as pd\n",
    "import urllib.request\n",
    "import re\n",
    "import matplotlib.pyplot as plt\n",
    "import datetime\n",
    "import win32com.client\n",
    "\n",
    "%matplotlib inline"
   ]
  },
  {
   "cell_type": "markdown",
   "metadata": {},
   "source": [
    "# NATE SILVER"
   ]
  },
  {
   "cell_type": "code",
   "execution_count": null,
   "metadata": {},
   "outputs": [],
   "source": [
    "c = pd.read_csv(\"https://projects.fivethirtyeight.com/2020-general-data/presidential_scenario_analysis_2020.csv\")\n",
    "filtered_scenarios = c[(c.scenario_description == \"Biden wins popular vote\") | (c.scenario_description == \"Trump wins popular vote\")]\n",
    "df = filtered_scenarios[['scenario_description', 'probability', 'modeldate']]\n",
    "df_nate = df.pivot(index = 'modeldate', columns = 'scenario_description', values='probability')\n",
    "df_nate.columns = ['biden', 'trump']\n",
    "df_nate.index = pd.to_datetime(df_nate.index)"
   ]
  },
  {
   "cell_type": "code",
   "execution_count": null,
   "metadata": {},
   "outputs": [],
   "source": [
    "df_nate.plot(title='NateSilver')"
   ]
  },
  {
   "cell_type": "markdown",
   "metadata": {},
   "source": [
    "# GJP"
   ]
  },
  {
   "cell_type": "code",
   "execution_count": null,
   "metadata": {},
   "outputs": [],
   "source": [
    "# Get HTML from website\n",
    "url = \"https://goodjudgment.io/superforecasts/\"\n",
    "headers={'User-Agent':'Mozilla/5.0 (Windows NT 10.0; Win64; x64) AppleWebKit/537.36 (KHTML, like Gecko) Chrome/85.0.4183.121 Safari/537.36',} \n",
    "\n",
    "request=urllib.request.Request(url,None,headers) #The assembled request\n",
    "response = urllib.request.urlopen(request)\n",
    "data = response.read()\n",
    "\n",
    "# Parse data from website\n",
    "chart_gen = re.findall(\"function tdrawChart1338.+?options1338\", str(data))[0]\n",
    "data_points = re.findall(\"(?<=\\[)\\\".+?(?=\\])\", chart_gen)\n",
    "\n",
    "# Clean data\n",
    "df_gjp = pd.DataFrame([sub.split(\",\") for sub in data_points], columns=['date', 'biden', 'trump', 'others'])\n",
    "df_gjp['date'] = pd.to_datetime(df_gjp['date'].str.replace(\"\\\"\", \"\") + \" 2020\")\n",
    "df_gjp.set_index('date', inplace=True)\n",
    "df_gjp = df_gjp[['biden', 'trump', 'others']].astype('int32')"
   ]
  },
  {
   "cell_type": "code",
   "execution_count": null,
   "metadata": {},
   "outputs": [],
   "source": [
    "df_gjp.plot()"
   ]
  },
  {
   "cell_type": "markdown",
   "metadata": {},
   "source": [
    "# Betting odds from Macrobond"
   ]
  },
  {
   "cell_type": "code",
   "execution_count": null,
   "metadata": {},
   "outputs": [],
   "source": [
    "# Can only be run on Macrobond PC\n",
    "\n",
    "def _convert(tuple_time):\n",
    "    return [_convert_single(x) for x in tuple_time]\n",
    "\n",
    "def _convert_single(time):\n",
    "    return pd.Timestamp(time.timestamp(), unit = 's')\n",
    "\n",
    "def mb_to_pd(mb_obj, label='values'):\n",
    "    return pd.DataFrame({'dates':_convert(mb_obj.DatesAtStartOfPeriod), label: mb_obj.Values}).set_index('dates')\n",
    "\n",
    "c = win32com.client.Dispatch(\"Macrobond.Connection\")\n",
    "d = c.Database\n",
    "trump, biden = d.FetchSeries([\"pit_poli_3698_7943\", \"pit_poli_3698_7940\"])\n",
    "df_bet = mb_to_pd(trump, label=\"trump\").join(mb_to_pd(biden, label=\"biden\"))"
   ]
  },
  {
   "cell_type": "code",
   "execution_count": null,
   "metadata": {},
   "outputs": [],
   "source": [
    "df_bet.plot()"
   ]
  },
  {
   "cell_type": "markdown",
   "metadata": {},
   "source": [
    "# Consolidated"
   ]
  },
  {
   "cell_type": "code",
   "execution_count": null,
   "metadata": {},
   "outputs": [],
   "source": [
    "ax = pd.DataFrame({'betting odds':df_bet['biden'], 'nate silver':df_nate['biden'], 'gjp':df_gjp['biden']/100}).plot(title='Prob of Biden Win')\n",
    "ax.set_xlim(datetime.date(2020, 1, 1))"
   ]
  }
 ],
 "metadata": {
  "kernelspec": {
   "display_name": "Python 3",
   "language": "python",
   "name": "python3"
  },
  "language_info": {
   "codemirror_mode": {
    "name": "ipython",
    "version": 3
   },
   "file_extension": ".py",
   "mimetype": "text/x-python",
   "name": "python",
   "nbconvert_exporter": "python",
   "pygments_lexer": "ipython3",
   "version": "3.8.3"
  }
 },
 "nbformat": 4,
 "nbformat_minor": 4
}
