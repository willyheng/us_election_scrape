{
 "cells": [
  {
   "cell_type": "code",
   "execution_count": null,
   "metadata": {},
   "outputs": [],
   "source": [
    "import pandas as pd\n",
    "import urllib.request\n",
    "import re\n",
    "\n",
    "%matplotlib inline"
   ]
  },
  {
   "cell_type": "markdown",
   "metadata": {},
   "source": [
    "# NATE SILVER"
   ]
  },
  {
   "cell_type": "code",
   "execution_count": null,
   "metadata": {},
   "outputs": [],
   "source": [
    "c = pd.read_csv(\"https://projects.fivethirtyeight.com/2020-general-data/presidential_scenario_analysis_2020.csv\")\n",
    "filtered_scenarios = c[(c.scenario_description == \"Biden wins popular vote\") | (c.scenario_description == \"Trump wins popular vote\")]\n",
    "df = filtered_scenarios[['scenario_description', 'probability', 'modeldate']]\n",
    "df['scenario_description'] = df.scenario_description.str.extract(\"(^.+?) \")\n",
    "wide_df = df.pivot(index = 'modeldate', columns = 'scenario_description', values='probability')"
   ]
  },
  {
   "cell_type": "code",
   "execution_count": null,
   "metadata": {},
   "outputs": [],
   "source": [
    "wide_df.plot(title='NateSilver')"
   ]
  },
  {
   "cell_type": "markdown",
   "metadata": {},
   "source": [
    "# GJP"
   ]
  },
  {
   "cell_type": "code",
   "execution_count": null,
   "metadata": {},
   "outputs": [],
   "source": [
    "# Get HTML from website\n",
    "url = \"https://goodjudgment.io/superforecasts/\"\n",
    "headers={'User-Agent':'Mozilla/5.0 (Windows NT 10.0; Win64; x64) AppleWebKit/537.36 (KHTML, like Gecko) Chrome/85.0.4183.121 Safari/537.36',} \n",
    "\n",
    "request=urllib.request.Request(url,None,headers) #The assembled request\n",
    "response = urllib.request.urlopen(request)\n",
    "data = response.read()\n",
    "\n",
    "# Parse data from website\n",
    "chart_gen = re.findall(\"function tdrawChart1338.+?options1338\", str(data))[0]\n",
    "data_points = re.findall(\"(?<=\\[)\\\".+?(?=\\])\", chart_gen)\n",
    "\n",
    "# Clean data\n",
    "df_gjp = pd.DataFrame([sub.split(\",\") for sub in data_points], columns=['date', 'biden', 'trump', 'others'])\n",
    "df_gjp['date'] = pd.to_datetime(df_gjp['date'].str.replace(\"\\\"\", \"\") + \" 2020\")\n",
    "df_gjp.set_index('date', inplace=True)\n",
    "df_gjp = df_gjp[['biden', 'trump', 'others']].astype('int32')"
   ]
  },
  {
   "cell_type": "code",
   "execution_count": null,
   "metadata": {},
   "outputs": [],
   "source": [
    "df_gjp.plot()"
   ]
  }
 ],
 "metadata": {
  "kernelspec": {
   "display_name": "Python 3",
   "language": "python",
   "name": "python3"
  },
  "language_info": {
   "codemirror_mode": {
    "name": "ipython",
    "version": 3
   },
   "file_extension": ".py",
   "mimetype": "text/x-python",
   "name": "python",
   "nbconvert_exporter": "python",
   "pygments_lexer": "ipython3",
   "version": "3.7.4"
  }
 },
 "nbformat": 4,
 "nbformat_minor": 4
}
